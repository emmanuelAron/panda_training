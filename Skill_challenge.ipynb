{
  "nbformat": 4,
  "nbformat_minor": 0,
  "metadata": {
    "colab": {
      "provenance": [],
      "authorship_tag": "ABX9TyMiRz0YOBStP9cFGk3Uelic",
      "include_colab_link": true
    },
    "kernelspec": {
      "name": "python3",
      "display_name": "Python 3"
    },
    "language_info": {
      "name": "python"
    }
  },
  "cells": [
    {
      "cell_type": "markdown",
      "metadata": {
        "id": "view-in-github",
        "colab_type": "text"
      },
      "source": [
        "<a href=\"https://colab.research.google.com/github/emmanuelAron/panda_training/blob/main/Skill_challenge.ipynb\" target=\"_parent\"><img src=\"https://colab.research.google.com/assets/colab-badge.svg\" alt=\"Open In Colab\"/></a>"
      ]
    },
    {
      "cell_type": "code",
      "execution_count": 2,
      "metadata": {
        "id": "1tQ9Ma4hIAew"
      },
      "outputs": [],
      "source": [
        "actors_names = ['James Dean','Alain Delon','Hugh Grant','Harrison Ford']"
      ]
    },
    {
      "cell_type": "code",
      "source": [
        "actors_ages = [45,67.2,55,77]"
      ],
      "metadata": {
        "id": "5a0t_C-1IoF9"
      },
      "execution_count": 3,
      "outputs": []
    },
    {
      "cell_type": "code",
      "source": [
        "import pandas as pd"
      ],
      "metadata": {
        "id": "t93M_BRZJFA8"
      },
      "execution_count": 4,
      "outputs": []
    },
    {
      "cell_type": "code",
      "source": [
        "pd.Series(actors_ages,actors_names)"
      ],
      "metadata": {
        "colab": {
          "base_uri": "https://localhost:8080/"
        },
        "id": "cfcDGHXNJRdM",
        "outputId": "89b65489-29bf-47e1-b1b1-1d06174120d5"
      },
      "execution_count": 5,
      "outputs": [
        {
          "output_type": "execute_result",
          "data": {
            "text/plain": [
              "James Dean       45.0\n",
              "Alain Delon      67.2\n",
              "Hugh Grant       55.0\n",
              "Harrison Ford    77.0\n",
              "dtype: float64"
            ]
          },
          "metadata": {},
          "execution_count": 5
        }
      ]
    },
    {
      "cell_type": "code",
      "source": [],
      "metadata": {
        "id": "P7vCdgtAJt-7"
      },
      "execution_count": null,
      "outputs": []
    }
  ]
}