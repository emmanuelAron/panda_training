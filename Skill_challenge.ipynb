{
  "nbformat": 4,
  "nbformat_minor": 0,
  "metadata": {
    "colab": {
      "provenance": [],
      "authorship_tag": "ABX9TyNG3Y+xkD4+07oi0xScmxVZ",
      "include_colab_link": true
    },
    "kernelspec": {
      "name": "python3",
      "display_name": "Python 3"
    },
    "language_info": {
      "name": "python"
    }
  },
  "cells": [
    {
      "cell_type": "markdown",
      "metadata": {
        "id": "view-in-github",
        "colab_type": "text"
      },
      "source": [
        "<a href=\"https://colab.research.google.com/github/emmanuelAron/panda_training/blob/main/Skill_challenge.ipynb\" target=\"_parent\"><img src=\"https://colab.research.google.com/assets/colab-badge.svg\" alt=\"Open In Colab\"/></a>"
      ]
    },
    {
      "cell_type": "code",
      "execution_count": 18,
      "metadata": {
        "id": "1tQ9Ma4hIAew"
      },
      "outputs": [],
      "source": [
        "actors_names = ['James Dean','Alain Delon','Hugh Grant','Harrison Ford']"
      ]
    },
    {
      "cell_type": "code",
      "source": [
        "actors_ages = [45,67.2,55,77]"
      ],
      "metadata": {
        "id": "5a0t_C-1IoF9"
      },
      "execution_count": 17,
      "outputs": []
    },
    {
      "cell_type": "code",
      "source": [
        "import pandas as pd"
      ],
      "metadata": {
        "id": "t93M_BRZJFA8"
      },
      "execution_count": 9,
      "outputs": []
    },
    {
      "cell_type": "code",
      "source": [
        "pd.Series(actors_ages,actors_names)"
      ],
      "metadata": {
        "colab": {
          "base_uri": "https://localhost:8080/"
        },
        "id": "cfcDGHXNJRdM",
        "outputId": "89b65489-29bf-47e1-b1b1-1d06174120d5"
      },
      "execution_count": 5,
      "outputs": [
        {
          "output_type": "execute_result",
          "data": {
            "text/plain": [
              "James Dean       45.0\n",
              "Alain Delon      67.2\n",
              "Hugh Grant       55.0\n",
              "Harrison Ford    77.0\n",
              "dtype: float64"
            ]
          },
          "metadata": {},
          "execution_count": 5
        }
      ]
    },
    {
      "cell_type": "code",
      "source": [
        "actors_dict = {0:'James Dean',1:'Alain Delon',2:'Hugh Grant',3:'Harrison Ford'}"
      ],
      "metadata": {
        "id": "P7vCdgtAJt-7"
      },
      "execution_count": 7,
      "outputs": []
    },
    {
      "cell_type": "code",
      "source": [
        "actors_ages = {0:45,1:67.2,2:55,3:77}\n",
        "import pandas as pd\n",
        "pd.Series(actors_dict,actors_names)"
      ],
      "metadata": {
        "colab": {
          "base_uri": "https://localhost:8080/"
        },
        "id": "sS6iOloEKeGM",
        "outputId": "80adb991-3cf7-4212-f301-bc0f866243c7"
      },
      "execution_count": 11,
      "outputs": [
        {
          "output_type": "execute_result",
          "data": {
            "text/plain": [
              "James Dean       NaN\n",
              "Alain Delon      NaN\n",
              "Hugh Grant       NaN\n",
              "Harrison Ford    NaN\n",
              "dtype: object"
            ]
          },
          "metadata": {},
          "execution_count": 11
        }
      ]
    },
    {
      "cell_type": "code",
      "source": [
        "zip(actors_names,actors_ages)"
      ],
      "metadata": {
        "colab": {
          "base_uri": "https://localhost:8080/"
        },
        "id": "WmlBOdZCKlzb",
        "outputId": "4e0c7fd4-47bc-47bf-875b-9ced4b88b30b"
      },
      "execution_count": 12,
      "outputs": [
        {
          "output_type": "execute_result",
          "data": {
            "text/plain": [
              "<zip at 0x789c331b91c0>"
            ]
          },
          "metadata": {},
          "execution_count": 12
        }
      ]
    },
    {
      "cell_type": "code",
      "source": [
        "list(zip(actors_names,actors_ages))"
      ],
      "metadata": {
        "colab": {
          "base_uri": "https://localhost:8080/"
        },
        "id": "b1EIpNqxMGSy",
        "outputId": "596cfdda-c839-4e64-bab0-5feeda0801c2"
      },
      "execution_count": 13,
      "outputs": [
        {
          "output_type": "execute_result",
          "data": {
            "text/plain": [
              "[('James Dean', 0),\n",
              " ('Alain Delon', 1),\n",
              " ('Hugh Grant', 2),\n",
              " ('Harrison Ford', 3)]"
            ]
          },
          "metadata": {},
          "execution_count": 13
        }
      ]
    },
    {
      "cell_type": "code",
      "source": [],
      "metadata": {
        "id": "kfxFKziAMrsX"
      },
      "execution_count": null,
      "outputs": []
    },
    {
      "cell_type": "code",
      "source": [
        "dict(zip(actors_names,actors_ages))"
      ],
      "metadata": {
        "colab": {
          "base_uri": "https://localhost:8080/"
        },
        "id": "Q_2N8zWcMbPx",
        "outputId": "d5653e76-46f0-4ee4-901a-dd9565c6c702"
      },
      "execution_count": 14,
      "outputs": [
        {
          "output_type": "execute_result",
          "data": {
            "text/plain": [
              "{'James Dean': 0, 'Alain Delon': 1, 'Hugh Grant': 2, 'Harrison Ford': 3}"
            ]
          },
          "metadata": {},
          "execution_count": 14
        }
      ]
    },
    {
      "cell_type": "code",
      "source": [
        "pd.Series(dict(zip(actors_names,actors_ages)))"
      ],
      "metadata": {
        "colab": {
          "base_uri": "https://localhost:8080/"
        },
        "id": "LW4KeP8uMd-C",
        "outputId": "ad82c588-8a78-41d3-9e67-adebd9d8c70a"
      },
      "execution_count": 15,
      "outputs": [
        {
          "output_type": "execute_result",
          "data": {
            "text/plain": [
              "James Dean       0\n",
              "Alain Delon      1\n",
              "Hugh Grant       2\n",
              "Harrison Ford    3\n",
              "dtype: int64"
            ]
          },
          "metadata": {},
          "execution_count": 15
        }
      ]
    },
    {
      "cell_type": "markdown",
      "source": [
        "Another solution"
      ],
      "metadata": {
        "id": "JW_9qkZ1N_AO"
      }
    },
    {
      "cell_type": "code",
      "source": [
        "{name:age for name,age in zip(actors_names,actors_ages)}"
      ],
      "metadata": {
        "colab": {
          "base_uri": "https://localhost:8080/"
        },
        "id": "TJxAJ_vhMtd5",
        "outputId": "a38c8596-2e95-4d01-9674-a724339034ff"
      },
      "execution_count": 21,
      "outputs": [
        {
          "output_type": "execute_result",
          "data": {
            "text/plain": [
              "{'James Dean': 45, 'Alain Delon': 67.2, 'Hugh Grant': 55, 'Harrison Ford': 77}"
            ]
          },
          "metadata": {},
          "execution_count": 21
        }
      ]
    },
    {
      "cell_type": "code",
      "source": [
        "pd.Series({name:age for name,age in zip(actors_names,actors_ages)})"
      ],
      "metadata": {
        "colab": {
          "base_uri": "https://localhost:8080/"
        },
        "id": "kk-FkQAnOXVI",
        "outputId": "09ab0ee7-9787-4d81-b0d4-f3ca79883904"
      },
      "execution_count": 23,
      "outputs": [
        {
          "output_type": "execute_result",
          "data": {
            "text/plain": [
              "James Dean       45.0\n",
              "Alain Delon      67.2\n",
              "Hugh Grant       55.0\n",
              "Harrison Ford    77.0\n",
              "dtype: float64"
            ]
          },
          "metadata": {},
          "execution_count": 23
        }
      ]
    },
    {
      "cell_type": "code",
      "source": [],
      "metadata": {
        "id": "vMs1hhihPBe5"
      },
      "execution_count": null,
      "outputs": []
    }
  ]
}